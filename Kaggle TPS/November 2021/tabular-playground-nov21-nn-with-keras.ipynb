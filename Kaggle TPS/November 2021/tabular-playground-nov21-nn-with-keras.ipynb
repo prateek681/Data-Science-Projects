{
 "cells": [
  {
   "cell_type": "markdown",
   "id": "f6168f57",
   "metadata": {
    "papermill": {
     "duration": 0.031567,
     "end_time": "2021-11-30T12:49:38.003265",
     "exception": false,
     "start_time": "2021-11-30T12:49:37.971698",
     "status": "completed"
    },
    "tags": []
   },
   "source": [
    "## Tabular Playground - November 2021"
   ]
  },
  {
   "cell_type": "code",
   "execution_count": 1,
   "id": "d6322634",
   "metadata": {
    "_cell_guid": "b1076dfc-b9ad-4769-8c92-a6c4dae69d19",
    "_uuid": "8f2839f25d086af736a60e9eeb907d3b93b6e0e5",
    "execution": {
     "iopub.execute_input": "2021-11-30T12:49:38.100547Z",
     "iopub.status.busy": "2021-11-30T12:49:38.098243Z",
     "iopub.status.idle": "2021-11-30T12:49:44.951986Z",
     "shell.execute_reply": "2021-11-30T12:49:44.950889Z",
     "shell.execute_reply.started": "2021-11-30T12:09:21.756533Z"
    },
    "papermill": {
     "duration": 6.910041,
     "end_time": "2021-11-30T12:49:44.952144",
     "exception": false,
     "start_time": "2021-11-30T12:49:38.042103",
     "status": "completed"
    },
    "tags": []
   },
   "outputs": [],
   "source": [
    "# Basic Data Preprocessing\n",
    "import numpy as np\n",
    "import pandas as pd \n",
    "\n",
    "# Data Visualization\n",
    "import seaborn as sns\n",
    "import matplotlib.pyplot as plt\n",
    "%matplotlib inline\n",
    "\n",
    "import plotly.graph_objects as go\n",
    "import plotly.express as px\n",
    "from plotly.subplots import make_subplots\n",
    "\n",
    "# Data Preprocessing\n",
    "from sklearn.preprocessing import StandardScaler\n",
    "from sklearn.preprocessing import RobustScaler,MinMaxScaler\n",
    "from scipy.stats import uniform, randint\n",
    "\n",
    "# Feature Selection\n",
    "from sklearn.feature_selection import SelectKBest, chi2, SelectFromModel\n",
    "from sklearn.decomposition import PCA\n",
    "\n",
    "#Modelling\n",
    "from sklearn.model_selection import train_test_split\n",
    "from sklearn.linear_model import SGDClassifier\n",
    "from sklearn.neural_network import MLPClassifier\n",
    "from sklearn.tree import DecisionTreeClassifier\n",
    "from sklearn.ensemble import RandomForestClassifier, GradientBoostingClassifier\n",
    "from xgboost import XGBClassifier\n",
    "import tensorflow as tf\n",
    "from tensorflow import keras\n",
    "\n",
    "# Metrics\n",
    "from sklearn.metrics import confusion_matrix,ConfusionMatrixDisplay,accuracy_score\n",
    "from sklearn import metrics\n",
    "from sklearn.model_selection import cross_val_score,GridSearchCV, KFold, RandomizedSearchCV,RepeatedStratifiedKFold\n",
    "from skopt import BayesSearchCV\n"
   ]
  },
  {
   "cell_type": "code",
   "execution_count": 2,
   "id": "c1640fdb",
   "metadata": {
    "execution": {
     "iopub.execute_input": "2021-11-30T12:49:45.000753Z",
     "iopub.status.busy": "2021-11-30T12:49:45.000044Z",
     "iopub.status.idle": "2021-11-30T12:50:12.021858Z",
     "shell.execute_reply": "2021-11-30T12:50:12.022292Z",
     "shell.execute_reply.started": "2021-11-30T12:09:28.268337Z"
    },
    "papermill": {
     "duration": 27.048279,
     "end_time": "2021-11-30T12:50:12.022490",
     "exception": false,
     "start_time": "2021-11-30T12:49:44.974211",
     "status": "completed"
    },
    "tags": []
   },
   "outputs": [],
   "source": [
    "# Reading Test and Train data \n",
    "# Dropping ID column\n",
    "train_df= pd.read_csv('../input/tabular-playground-series-nov-2021/train.csv').iloc[:,1:]\n",
    "test_df= pd.read_csv('../input/tabular-playground-series-nov-2021/test.csv')"
   ]
  },
  {
   "cell_type": "code",
   "execution_count": 3,
   "id": "8e68a939",
   "metadata": {
    "execution": {
     "iopub.execute_input": "2021-11-30T12:50:12.194268Z",
     "iopub.status.busy": "2021-11-30T12:50:12.193326Z",
     "iopub.status.idle": "2021-11-30T12:50:12.195155Z",
     "shell.execute_reply": "2021-11-30T12:50:12.195563Z",
     "shell.execute_reply.started": "2021-11-30T12:10:29.559050Z"
    },
    "papermill": {
     "duration": 0.150885,
     "end_time": "2021-11-30T12:50:12.195713",
     "exception": false,
     "start_time": "2021-11-30T12:50:12.044828",
     "status": "completed"
    },
    "tags": []
   },
   "outputs": [],
   "source": [
    "# Create new DF without ID column from scoring dataset\n",
    "test_df_X = test_df.iloc[:,1:]\n",
    "# Create DF of ID column to be used later while submission\n",
    "test_df_id = test_df.iloc[:,:1]"
   ]
  },
  {
   "cell_type": "code",
   "execution_count": 4,
   "id": "9f7e9181",
   "metadata": {
    "execution": {
     "iopub.execute_input": "2021-11-30T12:50:12.244305Z",
     "iopub.status.busy": "2021-11-30T12:50:12.243802Z",
     "iopub.status.idle": "2021-11-30T12:50:12.247699Z",
     "shell.execute_reply": "2021-11-30T12:50:12.247238Z",
     "shell.execute_reply.started": "2021-11-30T12:10:39.795781Z"
    },
    "papermill": {
     "duration": 0.030144,
     "end_time": "2021-11-30T12:50:12.247810",
     "exception": false,
     "start_time": "2021-11-30T12:50:12.217666",
     "status": "completed"
    },
    "tags": []
   },
   "outputs": [],
   "source": [
    "# Function to Remove outliers from data\n",
    "def remove_outliers(x):\n",
    "    upper_limit = x.mean() + (2*x.std())\n",
    "    lower_limit = x.mean() - (2*x.std())\n",
    "    return np.where(x > upper_limit,upper_limit,np.where(x <lower_limit,lower_limit,x))"
   ]
  },
  {
   "cell_type": "code",
   "execution_count": 5,
   "id": "e4382340",
   "metadata": {
    "execution": {
     "iopub.execute_input": "2021-11-30T12:50:12.295976Z",
     "iopub.status.busy": "2021-11-30T12:50:12.295165Z",
     "iopub.status.idle": "2021-11-30T12:50:13.259714Z",
     "shell.execute_reply": "2021-11-30T12:50:13.260816Z",
     "shell.execute_reply.started": "2021-11-30T12:10:42.266344Z"
    },
    "papermill": {
     "duration": 0.9913,
     "end_time": "2021-11-30T12:50:13.261042",
     "exception": false,
     "start_time": "2021-11-30T12:50:12.269742",
     "status": "completed"
    },
    "tags": []
   },
   "outputs": [],
   "source": [
    "# Remove outliers for Train dataset\n",
    "train_df = train_df.apply(lambda x: remove_outliers(x))\n",
    "\n",
    "# Seperate target from Train Dataset\n",
    "train_df_Y = train_df.target\n",
    "train_df_X = train_df.iloc[:,:100]"
   ]
  },
  {
   "cell_type": "code",
   "execution_count": 6,
   "id": "0ccb4098",
   "metadata": {
    "execution": {
     "iopub.execute_input": "2021-11-30T12:50:13.353551Z",
     "iopub.status.busy": "2021-11-30T12:50:13.348080Z",
     "iopub.status.idle": "2021-11-30T12:50:13.358526Z",
     "shell.execute_reply": "2021-11-30T12:50:13.359107Z",
     "shell.execute_reply.started": "2021-11-30T12:10:44.936874Z"
    },
    "papermill": {
     "duration": 0.053366,
     "end_time": "2021-11-30T12:50:13.359287",
     "exception": false,
     "start_time": "2021-11-30T12:50:13.305921",
     "status": "completed"
    },
    "tags": []
   },
   "outputs": [
    {
     "data": {
      "text/plain": [
       "array([dtype('float64')], dtype=object)"
      ]
     },
     "execution_count": 6,
     "metadata": {},
     "output_type": "execute_result"
    }
   ],
   "source": [
    "train_df_X.dtypes.unique()"
   ]
  },
  {
   "cell_type": "code",
   "execution_count": 7,
   "id": "08bed627",
   "metadata": {
    "execution": {
     "iopub.execute_input": "2021-11-30T12:50:13.447131Z",
     "iopub.status.busy": "2021-11-30T12:50:13.446328Z",
     "iopub.status.idle": "2021-11-30T12:50:13.692282Z",
     "shell.execute_reply": "2021-11-30T12:50:13.693402Z",
     "shell.execute_reply.started": "2021-11-30T12:10:46.777980Z"
    },
    "papermill": {
     "duration": 0.297353,
     "end_time": "2021-11-30T12:50:13.693632",
     "exception": false,
     "start_time": "2021-11-30T12:50:13.396279",
     "status": "completed"
    },
    "tags": []
   },
   "outputs": [],
   "source": [
    "df_cat_variables = train_df_X.select_dtypes('int64').astype('int8')\n",
    "df_cont_variables = train_df_X.select_dtypes('float64').astype('float32')"
   ]
  },
  {
   "cell_type": "code",
   "execution_count": 8,
   "id": "898dcbe5",
   "metadata": {
    "execution": {
     "iopub.execute_input": "2021-11-30T12:50:13.758678Z",
     "iopub.status.busy": "2021-11-30T12:50:13.757780Z",
     "iopub.status.idle": "2021-11-30T12:50:13.759682Z",
     "shell.execute_reply": "2021-11-30T12:50:13.760077Z",
     "shell.execute_reply.started": "2021-11-30T12:10:48.836717Z"
    },
    "papermill": {
     "duration": 0.0296,
     "end_time": "2021-11-30T12:50:13.760210",
     "exception": false,
     "start_time": "2021-11-30T12:50:13.730610",
     "status": "completed"
    },
    "tags": []
   },
   "outputs": [],
   "source": [
    "# Scale and transform dataset\n",
    "def data_scaler_fit(option,df):\n",
    "    if option == 1:\n",
    "        transformer = StandardScaler().fit(df)\n",
    "    if option == 2 :\n",
    "        transformer = RobustScaler().fit(df)\n",
    "    if option ==3 :\n",
    "        transformer = MinMaxScaler().fit(df)\n",
    "    return transformer"
   ]
  },
  {
   "cell_type": "code",
   "execution_count": 9,
   "id": "14316a80",
   "metadata": {
    "execution": {
     "iopub.execute_input": "2021-11-30T12:50:13.810004Z",
     "iopub.status.busy": "2021-11-30T12:50:13.809398Z",
     "iopub.status.idle": "2021-11-30T12:50:13.811881Z",
     "shell.execute_reply": "2021-11-30T12:50:13.812283Z",
     "shell.execute_reply.started": "2021-11-26T20:43:02.760791Z"
    },
    "papermill": {
     "duration": 0.03026,
     "end_time": "2021-11-30T12:50:13.812405",
     "exception": false,
     "start_time": "2021-11-30T12:50:13.782145",
     "status": "completed"
    },
    "tags": []
   },
   "outputs": [
    {
     "data": {
      "text/plain": [
       "'\\n# Tanh estimator : https://stackoverflow.com/questions/43061120/tanh-estimator-normalization-in-python\\nm = np.mean(unnormalizedData, axis=0) # array([16.25, 26.25])\\nstd = np.std(unnormalizedData, axis=0) # array([17.45530005, 22.18529919])\\n\\ndata = 0.5 * (np.tanh(0.01 * ((unnormalizedData - m) / std)) + 1)\\n'"
      ]
     },
     "execution_count": 9,
     "metadata": {},
     "output_type": "execute_result"
    }
   ],
   "source": [
    "\"\"\"\n",
    "# Tanh estimator : https://stackoverflow.com/questions/43061120/tanh-estimator-normalization-in-python\n",
    "m = np.mean(unnormalizedData, axis=0) # array([16.25, 26.25])\n",
    "std = np.std(unnormalizedData, axis=0) # array([17.45530005, 22.18529919])\n",
    "\n",
    "data = 0.5 * (np.tanh(0.01 * ((unnormalizedData - m) / std)) + 1)\n",
    "\"\"\""
   ]
  },
  {
   "cell_type": "code",
   "execution_count": 10,
   "id": "294b5706",
   "metadata": {
    "execution": {
     "iopub.execute_input": "2021-11-30T12:50:13.863041Z",
     "iopub.status.busy": "2021-11-30T12:50:13.862211Z",
     "iopub.status.idle": "2021-11-30T12:50:14.001314Z",
     "shell.execute_reply": "2021-11-30T12:50:14.000775Z",
     "shell.execute_reply.started": "2021-11-30T12:10:52.211887Z"
    },
    "papermill": {
     "duration": 0.166904,
     "end_time": "2021-11-30T12:50:14.001440",
     "exception": false,
     "start_time": "2021-11-30T12:50:13.834536",
     "status": "completed"
    },
    "tags": []
   },
   "outputs": [],
   "source": [
    "transformer = data_scaler_fit(3,df_cont_variables)"
   ]
  },
  {
   "cell_type": "code",
   "execution_count": 11,
   "id": "f5d70cba",
   "metadata": {
    "execution": {
     "iopub.execute_input": "2021-11-30T12:50:14.053682Z",
     "iopub.status.busy": "2021-11-30T12:50:14.052790Z",
     "iopub.status.idle": "2021-11-30T12:50:14.628270Z",
     "shell.execute_reply": "2021-11-30T12:50:14.627682Z",
     "shell.execute_reply.started": "2021-11-30T12:11:40.215340Z"
    },
    "papermill": {
     "duration": 0.603776,
     "end_time": "2021-11-30T12:50:14.628408",
     "exception": false,
     "start_time": "2021-11-30T12:50:14.024632",
     "status": "completed"
    },
    "tags": []
   },
   "outputs": [],
   "source": [
    "train_df_X = transformer.transform(df_cont_variables)\n",
    "test_df_X = transformer.transform(test_df_X[df_cont_variables.columns])\n",
    "\n",
    "#train_df_X = df_cont_variables.to_numpy()\n",
    "#test_df_X = test_df_X[df_cont_variables.columns].to_numpy()"
   ]
  },
  {
   "cell_type": "code",
   "execution_count": 12,
   "id": "9294c59a",
   "metadata": {
    "execution": {
     "iopub.execute_input": "2021-11-30T12:50:14.678553Z",
     "iopub.status.busy": "2021-11-30T12:50:14.677643Z",
     "iopub.status.idle": "2021-11-30T12:50:14.680851Z",
     "shell.execute_reply": "2021-11-30T12:50:14.681224Z"
    },
    "papermill": {
     "duration": 0.030219,
     "end_time": "2021-11-30T12:50:14.681354",
     "exception": false,
     "start_time": "2021-11-30T12:50:14.651135",
     "status": "completed"
    },
    "tags": []
   },
   "outputs": [
    {
     "data": {
      "text/plain": [
       "'\\npca = PCA(0.95)\\npca.fit(train_df_X)\\n\\ntrain_df_X = pca.transform(train_df_X)\\ntest_df_X = pca.transform(test_df_X)\\n'"
      ]
     },
     "execution_count": 12,
     "metadata": {},
     "output_type": "execute_result"
    }
   ],
   "source": [
    "# Use PCA for dimention reduction\n",
    "\"\"\"\n",
    "pca = PCA(0.95)\n",
    "pca.fit(train_df_X)\n",
    "\n",
    "train_df_X = pca.transform(train_df_X)\n",
    "test_df_X = pca.transform(test_df_X)\n",
    "\"\"\""
   ]
  },
  {
   "cell_type": "code",
   "execution_count": 13,
   "id": "7ca995e7",
   "metadata": {
    "execution": {
     "iopub.execute_input": "2021-11-30T12:50:14.732211Z",
     "iopub.status.busy": "2021-11-30T12:50:14.731568Z",
     "iopub.status.idle": "2021-11-30T12:50:14.734206Z",
     "shell.execute_reply": "2021-11-30T12:50:14.734650Z"
    },
    "papermill": {
     "duration": 0.030841,
     "end_time": "2021-11-30T12:50:14.734775",
     "exception": false,
     "start_time": "2021-11-30T12:50:14.703934",
     "status": "completed"
    },
    "tags": []
   },
   "outputs": [
    {
     "data": {
      "text/plain": [
       "'\\nmodel = XGBClassifier(objective = \\'binary:logistic\\',eval_metric=\"auc\",random_state=1542,use_label_encoder=False,tree_method = \\'gpu_hist\\')\\n\\n\\n# define evaluation\\ncv = RepeatedStratifiedKFold(n_splits=10, n_repeats=3, random_state=1)\\n\\n# params = {\\n  #      \"colsample_bytree\": uniform(0.7, 0.3),\\n   #     \"gamma\": uniform(0, 0.5),\\n    #    \"learning_rate\": uniform(0.03, 0.3), # default 0.1 \\n     #   \"max_depth\": randint(2, 8), # default 3\\n      #  \"n_estimators\": randint(100, 1000), # default 100\\n       # \"subsample\": uniform(0.6, 0.4)\\n  #  }\\n\\n\\nparam_grid = {\\n    \"eta\":(0.01,0.2,\\'uniform\\') ,\\n    \"learning_rate\": (0.0001, 0.3, \"log-uniform\"),\\n    \"n_estimators\": (100,  1000) ,\\n    \"max_depth\": (2, 12) ,\\n    \"colsample_bytree\": (0.3, 0.7,\\'uniform\\'),\\n    \"gamma\": (0, 0.5,\\'uniform\\'),\\n    \"subsample\": (0.4, 1.0)\\n}\\n\\n\\nsearch = GridSearchCV(model, param_grid, cv=cv, verbose=1, n_jobs=1, scoring=\\'roc_auc\\',return_train_score=True,refit=True)\\n\\nsearch.fit(X_train, y_train,eval_set=[(X_test, y_test)])\\n\\nprint(\" Results from Random Search \" )\\nprint(\"\\n The best estimator across ALL searched params:\\n\", search.best_estimator_)\\nprint(\"\\n The best score across ALL searched params:\\n\", search.best_score_)\\nprint(\"\\n The best parameters across ALL searched params:\\n\", search.best_params_)\\n'"
      ]
     },
     "execution_count": 13,
     "metadata": {},
     "output_type": "execute_result"
    }
   ],
   "source": [
    "\"\"\"\n",
    "model = XGBClassifier(objective = 'binary:logistic',eval_metric=\"auc\",random_state=1542,use_label_encoder=False,tree_method = 'gpu_hist')\n",
    "\n",
    "\n",
    "# define evaluation\n",
    "cv = RepeatedStratifiedKFold(n_splits=10, n_repeats=3, random_state=1)\n",
    "\n",
    "# params = {\n",
    "  #      \"colsample_bytree\": uniform(0.7, 0.3),\n",
    "   #     \"gamma\": uniform(0, 0.5),\n",
    "    #    \"learning_rate\": uniform(0.03, 0.3), # default 0.1 \n",
    "     #   \"max_depth\": randint(2, 8), # default 3\n",
    "      #  \"n_estimators\": randint(100, 1000), # default 100\n",
    "       # \"subsample\": uniform(0.6, 0.4)\n",
    "  #  }\n",
    "\n",
    "\n",
    "param_grid = {\n",
    "    \"eta\":(0.01,0.2,'uniform') ,\n",
    "    \"learning_rate\": (0.0001, 0.3, \"log-uniform\"),\n",
    "    \"n_estimators\": (100,  1000) ,\n",
    "    \"max_depth\": (2, 12) ,\n",
    "    \"colsample_bytree\": (0.3, 0.7,'uniform'),\n",
    "    \"gamma\": (0, 0.5,'uniform'),\n",
    "    \"subsample\": (0.4, 1.0)\n",
    "}\n",
    "\n",
    "\n",
    "search = GridSearchCV(model, param_grid, cv=cv, verbose=1, n_jobs=1, scoring='roc_auc',return_train_score=True,refit=True)\n",
    "\n",
    "search.fit(X_train, y_train,eval_set=[(X_test, y_test)])\n",
    "\n",
    "print(\" Results from Random Search \" )\n",
    "print(\"\\n The best estimator across ALL searched params:\\n\", search.best_estimator_)\n",
    "print(\"\\n The best score across ALL searched params:\\n\", search.best_score_)\n",
    "print(\"\\n The best parameters across ALL searched params:\\n\", search.best_params_)\n",
    "\"\"\""
   ]
  },
  {
   "cell_type": "code",
   "execution_count": 14,
   "id": "3d780738",
   "metadata": {
    "execution": {
     "iopub.execute_input": "2021-11-30T12:50:14.787408Z",
     "iopub.status.busy": "2021-11-30T12:50:14.786833Z",
     "iopub.status.idle": "2021-11-30T12:50:14.790135Z",
     "shell.execute_reply": "2021-11-30T12:50:14.790539Z",
     "shell.execute_reply.started": "2021-11-26T20:46:16.880474Z"
    },
    "papermill": {
     "duration": 0.032959,
     "end_time": "2021-11-30T12:50:14.790673",
     "exception": false,
     "start_time": "2021-11-30T12:50:14.757714",
     "status": "completed"
    },
    "tags": []
   },
   "outputs": [
    {
     "data": {
      "text/plain": [
       "'\\ndef training_models(model_type):\\n    # Stochastic Gradient Descent\\n    if model_type == \\'SGD\\':\\n        model = SGDClassifier(loss=\"log\", penalty=\"l2\", max_iter=100)\\n    \\n    # Multi-layer Perceptron\\n    if model_type == \\'MLP\\':\\n        model = MLPClassifier(alpha=1e-5,solver = \\'sgd\\',learning_rate = \\'adaptive\\',warm_start=True,early_stopping = True,\\n                              max_iter=500,random_state=1)\\n    # Decision Tree\\n    if model_type == \\'DTC\\':\\n        model = DecisionTreeClassifier(max_depth = 10,max_features = \\'auto\\', random_state = 1)\\n        \\n    # Random Forest\\n    if model_type == \\'RFC\\':\\n        model = RandomForestClassifier(n_jobs = -1,n_estimators=100, warm_start=True,random_state = 1)\\n    \\n    # Gradient Boosting Classifier\\n    if model_type == \\'GBC\\':\\n        model = GradientBoostingClassifier(loss= \\'exponential\\',learning_rate = 0.05,n_estimators=500,max_depth=10,criterion=\\'squared_error\\')\\n        \\n    # XG Boost\\n    if model_type == \\'XGB\\':\\n        model = XGBClassifier(objective = \\'binary:logistic\\',n_estimators=1000,eval_metric=\"auc\",random_state=1542,tree_method = \\'gpu_hist\\',use_label_encoder=False)\\n    \\n    \\n    return model\\n'"
      ]
     },
     "execution_count": 14,
     "metadata": {},
     "output_type": "execute_result"
    }
   ],
   "source": [
    "\"\"\"\n",
    "def training_models(model_type):\n",
    "    # Stochastic Gradient Descent\n",
    "    if model_type == 'SGD':\n",
    "        model = SGDClassifier(loss=\"log\", penalty=\"l2\", max_iter=100)\n",
    "    \n",
    "    # Multi-layer Perceptron\n",
    "    if model_type == 'MLP':\n",
    "        model = MLPClassifier(alpha=1e-5,solver = 'sgd',learning_rate = 'adaptive',warm_start=True,early_stopping = True,\n",
    "                              max_iter=500,random_state=1)\n",
    "    # Decision Tree\n",
    "    if model_type == 'DTC':\n",
    "        model = DecisionTreeClassifier(max_depth = 10,max_features = 'auto', random_state = 1)\n",
    "        \n",
    "    # Random Forest\n",
    "    if model_type == 'RFC':\n",
    "        model = RandomForestClassifier(n_jobs = -1,n_estimators=100, warm_start=True,random_state = 1)\n",
    "    \n",
    "    # Gradient Boosting Classifier\n",
    "    if model_type == 'GBC':\n",
    "        model = GradientBoostingClassifier(loss= 'exponential',learning_rate = 0.05,n_estimators=500,max_depth=10,criterion='squared_error')\n",
    "        \n",
    "    # XG Boost\n",
    "    if model_type == 'XGB':\n",
    "        model = XGBClassifier(objective = 'binary:logistic',n_estimators=1000,eval_metric=\"auc\",random_state=1542,tree_method = 'gpu_hist',use_label_encoder=False)\n",
    "    \n",
    "    \n",
    "    return model\n",
    "\"\"\""
   ]
  },
  {
   "cell_type": "code",
   "execution_count": 15,
   "id": "9241fae4",
   "metadata": {
    "execution": {
     "iopub.execute_input": "2021-11-30T12:50:14.842698Z",
     "iopub.status.busy": "2021-11-30T12:50:14.842040Z",
     "iopub.status.idle": "2021-11-30T12:50:14.844677Z",
     "shell.execute_reply": "2021-11-30T12:50:14.845078Z",
     "shell.execute_reply.started": "2021-11-26T20:44:14.196007Z"
    },
    "papermill": {
     "duration": 0.031185,
     "end_time": "2021-11-30T12:50:14.845199",
     "exception": false,
     "start_time": "2021-11-30T12:50:14.814014",
     "status": "completed"
    },
    "tags": []
   },
   "outputs": [
    {
     "data": {
      "text/plain": [
       "\"\\ndef feature_selection(model_type,train_X,train_Y):\\n    embeded_selector = SelectFromModel(training_models(model_type), threshold='1.25*median')\\n    embeded_selector.fit(train_X,train_Y)\\n    embeded_support = embeded_selector.get_support()\\n    embeded_feature = pd.DataFrame(train_X).loc[:,embeded_support].columns.tolist()\\n    return embeded_feature\\n\\n\""
      ]
     },
     "execution_count": 15,
     "metadata": {},
     "output_type": "execute_result"
    }
   ],
   "source": [
    "\"\"\"\n",
    "def feature_selection(model_type,train_X,train_Y):\n",
    "    embeded_selector = SelectFromModel(training_models(model_type), threshold='1.25*median')\n",
    "    embeded_selector.fit(train_X,train_Y)\n",
    "    embeded_support = embeded_selector.get_support()\n",
    "    embeded_feature = pd.DataFrame(train_X).loc[:,embeded_support].columns.tolist()\n",
    "    return embeded_feature\n",
    "\n",
    "\"\"\""
   ]
  },
  {
   "cell_type": "code",
   "execution_count": 16,
   "id": "22eabb17",
   "metadata": {
    "execution": {
     "iopub.execute_input": "2021-11-30T12:50:14.896819Z",
     "iopub.status.busy": "2021-11-30T12:50:14.896104Z",
     "iopub.status.idle": "2021-11-30T12:50:14.898688Z",
     "shell.execute_reply": "2021-11-30T12:50:14.898225Z",
     "shell.execute_reply.started": "2021-11-26T20:46:34.036298Z"
    },
    "papermill": {
     "duration": 0.029618,
     "end_time": "2021-11-30T12:50:14.898796",
     "exception": false,
     "start_time": "2021-11-30T12:50:14.869178",
     "status": "completed"
    },
    "tags": []
   },
   "outputs": [],
   "source": [
    "# final_features = feature_selection('GBC',train_df_X, train_df_Y)"
   ]
  },
  {
   "cell_type": "code",
   "execution_count": 17,
   "id": "cd7ae0fa",
   "metadata": {
    "execution": {
     "iopub.execute_input": "2021-11-30T12:50:14.953504Z",
     "iopub.status.busy": "2021-11-30T12:50:14.952838Z",
     "iopub.status.idle": "2021-11-30T12:50:15.615577Z",
     "shell.execute_reply": "2021-11-30T12:50:15.615014Z",
     "shell.execute_reply.started": "2021-11-30T12:12:27.752753Z"
    },
    "papermill": {
     "duration": 0.692373,
     "end_time": "2021-11-30T12:50:15.615707",
     "exception": false,
     "start_time": "2021-11-30T12:50:14.923334",
     "status": "completed"
    },
    "tags": []
   },
   "outputs": [],
   "source": [
    "# Divide into train and test\n",
    "X_train, X_test, y_train, y_test = train_test_split(train_df_X, train_df_Y, test_size=0.20, random_state=151)"
   ]
  },
  {
   "cell_type": "code",
   "execution_count": 18,
   "id": "d6b2cc26",
   "metadata": {
    "execution": {
     "iopub.execute_input": "2021-11-30T12:50:15.669189Z",
     "iopub.status.busy": "2021-11-30T12:50:15.668524Z",
     "iopub.status.idle": "2021-11-30T12:50:15.671224Z",
     "shell.execute_reply": "2021-11-30T12:50:15.671641Z",
     "shell.execute_reply.started": "2021-11-26T12:19:05.57543Z"
    },
    "papermill": {
     "duration": 0.03212,
     "end_time": "2021-11-30T12:50:15.671773",
     "exception": false,
     "start_time": "2021-11-30T12:50:15.639653",
     "status": "completed"
    },
    "tags": []
   },
   "outputs": [
    {
     "data": {
      "text/plain": [
       "'\\nparameter_space = {\\n    \\'hidden_layer_sizes\\': [(50,50,50), (50,100,50), (100,)],\\n    \\'activation\\': [\\'tanh\\', \\'relu\\'],\\n    \\'solver\\': [\\'sgd\\', \\'adam\\'],\\n    \\'alpha\\': [0.0001, 0.05],\\n    \\'learning_rate\\': [\\'constant\\',\\'adaptive\\'],\\n}\\n\\nmodel = MLPClassifier(warm_start=True,early_stopping = True,max_iter=500,random_state=1)\\n\\nsearch = GridSearchCV(model, parameter_space, cv=3, verbose=1, n_jobs=-1, scoring=\\'roc_auc\\',return_train_score=True,refit=True)\\n\\nsearch.fit(X_train, y_train)\\n\\n\\nprint(\" Results from Random Search \" )\\nprint(\"\\n The best estimator across ALL searched params:\\n\", search.best_estimator_)\\nprint(\"\\n The best score across ALL searched params:\\n\", search.best_score_)\\nprint(\"\\n The best parameters across ALL searched params:\\n\", search.best_params_)\\n\\nmodel = search\\n'"
      ]
     },
     "execution_count": 18,
     "metadata": {},
     "output_type": "execute_result"
    }
   ],
   "source": [
    "\"\"\"\n",
    "parameter_space = {\n",
    "    'hidden_layer_sizes': [(50,50,50), (50,100,50), (100,)],\n",
    "    'activation': ['tanh', 'relu'],\n",
    "    'solver': ['sgd', 'adam'],\n",
    "    'alpha': [0.0001, 0.05],\n",
    "    'learning_rate': ['constant','adaptive'],\n",
    "}\n",
    "\n",
    "model = MLPClassifier(warm_start=True,early_stopping = True,max_iter=500,random_state=1)\n",
    "\n",
    "search = GridSearchCV(model, parameter_space, cv=3, verbose=1, n_jobs=-1, scoring='roc_auc',return_train_score=True,refit=True)\n",
    "\n",
    "search.fit(X_train, y_train)\n",
    "\n",
    "\n",
    "print(\" Results from Random Search \" )\n",
    "print(\"\\n The best estimator across ALL searched params:\\n\", search.best_estimator_)\n",
    "print(\"\\n The best score across ALL searched params:\\n\", search.best_score_)\n",
    "print(\"\\n The best parameters across ALL searched params:\\n\", search.best_params_)\n",
    "\n",
    "model = search\n",
    "\"\"\""
   ]
  },
  {
   "cell_type": "code",
   "execution_count": 19,
   "id": "67d5ceac",
   "metadata": {
    "execution": {
     "iopub.execute_input": "2021-11-30T12:50:15.725789Z",
     "iopub.status.busy": "2021-11-30T12:50:15.724747Z",
     "iopub.status.idle": "2021-11-30T12:50:18.852335Z",
     "shell.execute_reply": "2021-11-30T12:50:18.852776Z",
     "shell.execute_reply.started": "2021-11-30T12:12:36.529675Z"
    },
    "papermill": {
     "duration": 3.157041,
     "end_time": "2021-11-30T12:50:18.852932",
     "exception": false,
     "start_time": "2021-11-30T12:50:15.695891",
     "status": "completed"
    },
    "tags": []
   },
   "outputs": [
    {
     "name": "stderr",
     "output_type": "stream",
     "text": [
      "2021-11-30 12:50:16.785542: I tensorflow/stream_executor/cuda/cuda_gpu_executor.cc:937] successful NUMA node read from SysFS had negative value (-1), but there must be at least one NUMA node, so returning NUMA node zero\n",
      "2021-11-30 12:50:16.786577: I tensorflow/stream_executor/cuda/cuda_gpu_executor.cc:937] successful NUMA node read from SysFS had negative value (-1), but there must be at least one NUMA node, so returning NUMA node zero\n",
      "2021-11-30 12:50:16.787192: I tensorflow/stream_executor/cuda/cuda_gpu_executor.cc:937] successful NUMA node read from SysFS had negative value (-1), but there must be at least one NUMA node, so returning NUMA node zero\n",
      "2021-11-30 12:50:16.788595: I tensorflow/core/platform/cpu_feature_guard.cc:142] This TensorFlow binary is optimized with oneAPI Deep Neural Network Library (oneDNN) to use the following CPU instructions in performance-critical operations:  AVX2 AVX512F FMA\n",
      "To enable them in other operations, rebuild TensorFlow with the appropriate compiler flags.\n",
      "2021-11-30 12:50:16.789585: I tensorflow/stream_executor/cuda/cuda_gpu_executor.cc:937] successful NUMA node read from SysFS had negative value (-1), but there must be at least one NUMA node, so returning NUMA node zero\n",
      "2021-11-30 12:50:16.790209: I tensorflow/stream_executor/cuda/cuda_gpu_executor.cc:937] successful NUMA node read from SysFS had negative value (-1), but there must be at least one NUMA node, so returning NUMA node zero\n",
      "2021-11-30 12:50:16.790861: I tensorflow/stream_executor/cuda/cuda_gpu_executor.cc:937] successful NUMA node read from SysFS had negative value (-1), but there must be at least one NUMA node, so returning NUMA node zero\n",
      "2021-11-30 12:50:18.490931: I tensorflow/stream_executor/cuda/cuda_gpu_executor.cc:937] successful NUMA node read from SysFS had negative value (-1), but there must be at least one NUMA node, so returning NUMA node zero\n",
      "2021-11-30 12:50:18.491724: I tensorflow/stream_executor/cuda/cuda_gpu_executor.cc:937] successful NUMA node read from SysFS had negative value (-1), but there must be at least one NUMA node, so returning NUMA node zero\n",
      "2021-11-30 12:50:18.492334: I tensorflow/stream_executor/cuda/cuda_gpu_executor.cc:937] successful NUMA node read from SysFS had negative value (-1), but there must be at least one NUMA node, so returning NUMA node zero\n",
      "2021-11-30 12:50:18.492942: I tensorflow/core/common_runtime/gpu/gpu_device.cc:1510] Created device /job:localhost/replica:0/task:0/device:GPU:0 with 15385 MB memory:  -> device: 0, name: Tesla P100-PCIE-16GB, pci bus id: 0000:00:04.0, compute capability: 6.0\n"
     ]
    }
   ],
   "source": [
    "model = keras.models.Sequential([\n",
    "keras.layers.Flatten(input_shape=[X_train.shape[1],]),\n",
    "keras.layers.Dense(512, activation=\"relu\"),\n",
    "keras.layers.Dropout(0.5),\n",
    "keras.layers.Dense(128, activation=\"relu\"),\n",
    "keras.layers.Dropout(0.5),\n",
    "keras.layers.Dense(64, activation=\"relu\"),\n",
    "keras.layers.Dense(1, activation=\"sigmoid\")\n",
    "])"
   ]
  },
  {
   "cell_type": "code",
   "execution_count": 20,
   "id": "93ae6c5b",
   "metadata": {
    "execution": {
     "iopub.execute_input": "2021-11-30T12:50:18.907015Z",
     "iopub.status.busy": "2021-11-30T12:50:18.906156Z",
     "iopub.status.idle": "2021-11-30T12:50:18.913121Z",
     "shell.execute_reply": "2021-11-30T12:50:18.913669Z",
     "shell.execute_reply.started": "2021-11-30T12:12:41.256142Z"
    },
    "papermill": {
     "duration": 0.035964,
     "end_time": "2021-11-30T12:50:18.913800",
     "exception": false,
     "start_time": "2021-11-30T12:50:18.877836",
     "status": "completed"
    },
    "tags": []
   },
   "outputs": [
    {
     "name": "stdout",
     "output_type": "stream",
     "text": [
      "Model: \"sequential\"\n",
      "_________________________________________________________________\n",
      "Layer (type)                 Output Shape              Param #   \n",
      "=================================================================\n",
      "flatten (Flatten)            (None, 100)               0         \n",
      "_________________________________________________________________\n",
      "dense (Dense)                (None, 512)               51712     \n",
      "_________________________________________________________________\n",
      "dropout (Dropout)            (None, 512)               0         \n",
      "_________________________________________________________________\n",
      "dense_1 (Dense)              (None, 128)               65664     \n",
      "_________________________________________________________________\n",
      "dropout_1 (Dropout)          (None, 128)               0         \n",
      "_________________________________________________________________\n",
      "dense_2 (Dense)              (None, 64)                8256      \n",
      "_________________________________________________________________\n",
      "dense_3 (Dense)              (None, 1)                 65        \n",
      "=================================================================\n",
      "Total params: 125,697\n",
      "Trainable params: 125,697\n",
      "Non-trainable params: 0\n",
      "_________________________________________________________________\n"
     ]
    }
   ],
   "source": [
    "model.summary()"
   ]
  },
  {
   "cell_type": "code",
   "execution_count": 21,
   "id": "a9bd5bf5",
   "metadata": {
    "execution": {
     "iopub.execute_input": "2021-11-30T12:50:18.971815Z",
     "iopub.status.busy": "2021-11-30T12:50:18.971057Z",
     "iopub.status.idle": "2021-11-30T12:50:18.986888Z",
     "shell.execute_reply": "2021-11-30T12:50:18.987309Z",
     "shell.execute_reply.started": "2021-11-30T12:12:46.064961Z"
    },
    "papermill": {
     "duration": 0.048631,
     "end_time": "2021-11-30T12:50:18.987482",
     "exception": false,
     "start_time": "2021-11-30T12:50:18.938851",
     "status": "completed"
    },
    "tags": []
   },
   "outputs": [],
   "source": [
    "callback = tf.keras.callbacks.EarlyStopping(monitor='loss', patience=5)\n",
    "epochs = 100\n",
    "\n",
    "model.compile(loss=\"binary_crossentropy\",\n",
    "optimizer=\"adam\",\n",
    "metrics=[tf.keras.metrics.AUC()])"
   ]
  },
  {
   "cell_type": "code",
   "execution_count": 22,
   "id": "bc9f322b",
   "metadata": {
    "execution": {
     "iopub.execute_input": "2021-11-30T12:50:19.044934Z",
     "iopub.status.busy": "2021-11-30T12:50:19.044197Z",
     "iopub.status.idle": "2021-11-30T13:32:01.805435Z",
     "shell.execute_reply": "2021-11-30T13:32:01.571153Z",
     "shell.execute_reply.started": "2021-11-30T12:12:50.112513Z"
    },
    "papermill": {
     "duration": 2502.791568,
     "end_time": "2021-11-30T13:32:01.805649",
     "exception": false,
     "start_time": "2021-11-30T12:50:19.014081",
     "status": "completed"
    },
    "tags": []
   },
   "outputs": [
    {
     "name": "stderr",
     "output_type": "stream",
     "text": [
      "2021-11-30 12:50:19.442489: I tensorflow/compiler/mlir/mlir_graph_optimization_pass.cc:185] None of the MLIR Optimization Passes are enabled (registered 2)\n"
     ]
    },
    {
     "name": "stdout",
     "output_type": "stream",
     "text": [
      "Epoch 1/100\n",
      "15000/15000 [==============================] - 53s 3ms/step - loss: 0.6125 - auc: 0.7225 - val_loss: 0.5875 - val_auc: 0.7432\n",
      "Epoch 2/100\n",
      "15000/15000 [==============================] - 51s 3ms/step - loss: 0.5979 - auc: 0.7347 - val_loss: 0.5850 - val_auc: 0.7445\n",
      "Epoch 3/100\n",
      "15000/15000 [==============================] - 47s 3ms/step - loss: 0.5960 - auc: 0.7357 - val_loss: 0.5830 - val_auc: 0.7444\n",
      "Epoch 4/100\n",
      "15000/15000 [==============================] - 48s 3ms/step - loss: 0.5943 - auc: 0.7369 - val_loss: 0.5839 - val_auc: 0.7440\n",
      "Epoch 5/100\n",
      "15000/15000 [==============================] - 52s 3ms/step - loss: 0.5937 - auc: 0.7370 - val_loss: 0.5833 - val_auc: 0.7439\n",
      "Epoch 6/100\n",
      "15000/15000 [==============================] - 48s 3ms/step - loss: 0.5931 - auc: 0.7377 - val_loss: 0.5841 - val_auc: 0.7446\n",
      "Epoch 7/100\n",
      "15000/15000 [==============================] - 51s 3ms/step - loss: 0.5926 - auc: 0.7378 - val_loss: 0.5834 - val_auc: 0.7447\n",
      "Epoch 8/100\n",
      "15000/15000 [==============================] - 50s 3ms/step - loss: 0.5922 - auc: 0.7381 - val_loss: 0.5878 - val_auc: 0.7446\n",
      "Epoch 9/100\n",
      "15000/15000 [==============================] - 48s 3ms/step - loss: 0.5913 - auc: 0.7392 - val_loss: 0.5837 - val_auc: 0.7444\n",
      "Epoch 10/100\n",
      "15000/15000 [==============================] - 51s 3ms/step - loss: 0.5916 - auc: 0.7386 - val_loss: 0.5845 - val_auc: 0.7435\n",
      "Epoch 11/100\n",
      "15000/15000 [==============================] - 52s 3ms/step - loss: 0.5912 - auc: 0.7389 - val_loss: 0.5884 - val_auc: 0.7445\n",
      "Epoch 12/100\n",
      "15000/15000 [==============================] - 52s 3ms/step - loss: 0.5912 - auc: 0.7385 - val_loss: 0.5825 - val_auc: 0.7444\n",
      "Epoch 13/100\n",
      "15000/15000 [==============================] - 54s 4ms/step - loss: 0.5908 - auc: 0.7385 - val_loss: 0.5837 - val_auc: 0.7442\n",
      "Epoch 14/100\n",
      "15000/15000 [==============================] - 52s 3ms/step - loss: 0.5905 - auc: 0.7386 - val_loss: 0.5836 - val_auc: 0.7443\n",
      "Epoch 15/100\n",
      "15000/15000 [==============================] - 53s 4ms/step - loss: 0.5904 - auc: 0.7387 - val_loss: 0.5837 - val_auc: 0.7445\n",
      "Epoch 16/100\n",
      "15000/15000 [==============================] - 53s 4ms/step - loss: 0.5903 - auc: 0.7391 - val_loss: 0.5831 - val_auc: 0.7443\n",
      "Epoch 17/100\n",
      "15000/15000 [==============================] - 53s 4ms/step - loss: 0.5904 - auc: 0.7389 - val_loss: 0.5834 - val_auc: 0.7445\n",
      "Epoch 18/100\n",
      "15000/15000 [==============================] - 47s 3ms/step - loss: 0.5901 - auc: 0.7394 - val_loss: 0.5846 - val_auc: 0.7445\n",
      "Epoch 19/100\n",
      "15000/15000 [==============================] - 53s 4ms/step - loss: 0.5899 - auc: 0.7391 - val_loss: 0.5832 - val_auc: 0.7443\n",
      "Epoch 20/100\n",
      "15000/15000 [==============================] - 54s 4ms/step - loss: 0.5900 - auc: 0.7392 - val_loss: 0.5825 - val_auc: 0.7441\n",
      "Epoch 21/100\n",
      "15000/15000 [==============================] - 52s 3ms/step - loss: 0.5900 - auc: 0.7389 - val_loss: 0.5834 - val_auc: 0.7445\n",
      "Epoch 22/100\n",
      "15000/15000 [==============================] - 51s 3ms/step - loss: 0.5898 - auc: 0.7392 - val_loss: 0.5829 - val_auc: 0.7445\n",
      "Epoch 23/100\n",
      "15000/15000 [==============================] - 54s 4ms/step - loss: 0.5897 - auc: 0.7390 - val_loss: 0.5837 - val_auc: 0.7446\n",
      "Epoch 24/100\n",
      "15000/15000 [==============================] - 54s 4ms/step - loss: 0.5892 - auc: 0.7396 - val_loss: 0.5822 - val_auc: 0.7426\n",
      "Epoch 25/100\n",
      "15000/15000 [==============================] - 52s 3ms/step - loss: 0.5893 - auc: 0.7396 - val_loss: 0.5857 - val_auc: 0.7445\n",
      "Epoch 26/100\n",
      "15000/15000 [==============================] - 47s 3ms/step - loss: 0.5892 - auc: 0.7402 - val_loss: 0.5820 - val_auc: 0.7446\n",
      "Epoch 27/100\n",
      "15000/15000 [==============================] - 50s 3ms/step - loss: 0.5894 - auc: 0.7393 - val_loss: 0.5821 - val_auc: 0.7443\n",
      "Epoch 28/100\n",
      "15000/15000 [==============================] - 54s 4ms/step - loss: 0.5893 - auc: 0.7394 - val_loss: 0.5829 - val_auc: 0.7429\n",
      "Epoch 29/100\n",
      "15000/15000 [==============================] - 47s 3ms/step - loss: 0.5889 - auc: 0.7394 - val_loss: 0.5832 - val_auc: 0.7447\n",
      "Epoch 30/100\n",
      "15000/15000 [==============================] - 50s 3ms/step - loss: 0.5890 - auc: 0.7396 - val_loss: 0.5833 - val_auc: 0.7443\n",
      "Epoch 31/100\n",
      "15000/15000 [==============================] - 51s 3ms/step - loss: 0.5892 - auc: 0.7396 - val_loss: 0.5835 - val_auc: 0.7444\n",
      "Epoch 32/100\n",
      "15000/15000 [==============================] - 51s 3ms/step - loss: 0.5889 - auc: 0.7396 - val_loss: 0.5842 - val_auc: 0.7428\n",
      "Epoch 33/100\n",
      "15000/15000 [==============================] - 55s 4ms/step - loss: 0.5889 - auc: 0.7396 - val_loss: 0.5826 - val_auc: 0.7420\n",
      "Epoch 34/100\n",
      "15000/15000 [==============================] - 51s 3ms/step - loss: 0.5885 - auc: 0.7400 - val_loss: 0.5818 - val_auc: 0.7443\n",
      "Epoch 35/100\n",
      "15000/15000 [==============================] - 51s 3ms/step - loss: 0.5889 - auc: 0.7396 - val_loss: 0.5847 - val_auc: 0.7445\n",
      "Epoch 36/100\n",
      "15000/15000 [==============================] - 50s 3ms/step - loss: 0.5887 - auc: 0.7396 - val_loss: 0.5817 - val_auc: 0.7440\n",
      "Epoch 37/100\n",
      "15000/15000 [==============================] - 47s 3ms/step - loss: 0.5886 - auc: 0.7394 - val_loss: 0.5832 - val_auc: 0.7438\n",
      "Epoch 38/100\n",
      "15000/15000 [==============================] - 51s 3ms/step - loss: 0.5886 - auc: 0.7398 - val_loss: 0.5825 - val_auc: 0.7431\n",
      "Epoch 39/100\n",
      "15000/15000 [==============================] - 47s 3ms/step - loss: 0.5883 - auc: 0.7400 - val_loss: 0.5836 - val_auc: 0.7440\n",
      "Epoch 40/100\n",
      "15000/15000 [==============================] - 50s 3ms/step - loss: 0.5883 - auc: 0.7398 - val_loss: 0.5851 - val_auc: 0.7432\n",
      "Epoch 41/100\n",
      "15000/15000 [==============================] - 56s 4ms/step - loss: 0.5885 - auc: 0.7393 - val_loss: 0.5834 - val_auc: 0.7445\n",
      "Epoch 42/100\n",
      "15000/15000 [==============================] - 51s 3ms/step - loss: 0.5882 - auc: 0.7399 - val_loss: 0.5822 - val_auc: 0.7437\n",
      "Epoch 43/100\n",
      "15000/15000 [==============================] - 51s 3ms/step - loss: 0.5881 - auc: 0.7395 - val_loss: 0.5822 - val_auc: 0.7449\n",
      "Epoch 44/100\n",
      "15000/15000 [==============================] - 56s 4ms/step - loss: 0.5878 - auc: 0.7401 - val_loss: 0.5857 - val_auc: 0.7432\n",
      "Epoch 45/100\n",
      "15000/15000 [==============================] - 46s 3ms/step - loss: 0.5882 - auc: 0.7392 - val_loss: 0.5834 - val_auc: 0.7438\n",
      "Epoch 46/100\n",
      "15000/15000 [==============================] - 51s 3ms/step - loss: 0.5884 - auc: 0.7389 - val_loss: 0.5819 - val_auc: 0.7413\n",
      "Epoch 47/100\n",
      "15000/15000 [==============================] - 50s 3ms/step - loss: 0.5880 - auc: 0.7388 - val_loss: 0.5821 - val_auc: 0.7423\n",
      "Epoch 48/100\n",
      "15000/15000 [==============================] - 51s 3ms/step - loss: 0.5887 - auc: 0.7385 - val_loss: 0.5826 - val_auc: 0.7428\n",
      "Epoch 49/100\n",
      "15000/15000 [==============================] - 52s 3ms/step - loss: 0.5883 - auc: 0.7389 - val_loss: 0.5847 - val_auc: 0.7424\n"
     ]
    }
   ],
   "source": [
    "history = model.fit(X_train, y_train, epochs=epochs,validation_data=(X_test, y_test),callbacks=[callback])"
   ]
  },
  {
   "cell_type": "code",
   "execution_count": 23,
   "id": "778a0027",
   "metadata": {
    "execution": {
     "iopub.execute_input": "2021-11-30T13:32:23.682720Z",
     "iopub.status.busy": "2021-11-30T13:32:23.681864Z",
     "iopub.status.idle": "2021-11-30T13:32:23.684338Z",
     "shell.execute_reply": "2021-11-30T13:32:23.683929Z",
     "shell.execute_reply.started": "2021-11-26T13:44:08.445987Z"
    },
    "papermill": {
     "duration": 10.675989,
     "end_time": "2021-11-30T13:32:23.684468",
     "exception": false,
     "start_time": "2021-11-30T13:32:13.008479",
     "status": "completed"
    },
    "tags": []
   },
   "outputs": [],
   "source": [
    "#Train Model\n",
    "\n",
    "#model = training_models('MLP',X_train,y_train,X_test, y_test)\n",
    "#del(model)"
   ]
  },
  {
   "cell_type": "code",
   "execution_count": 24,
   "id": "91d7bd80",
   "metadata": {
    "execution": {
     "iopub.execute_input": "2021-11-30T13:32:45.715171Z",
     "iopub.status.busy": "2021-11-30T13:32:45.714458Z",
     "iopub.status.idle": "2021-11-30T13:32:45.718147Z",
     "shell.execute_reply": "2021-11-30T13:32:45.718751Z",
     "shell.execute_reply.started": "2021-11-30T12:48:40.759515Z"
    },
    "papermill": {
     "duration": 11.373455,
     "end_time": "2021-11-30T13:32:45.718941",
     "exception": false,
     "start_time": "2021-11-30T13:32:34.345486",
     "status": "completed"
    },
    "tags": []
   },
   "outputs": [
    {
     "name": "stdout",
     "output_type": "stream",
     "text": [
      "dict_keys(['loss', 'auc', 'val_loss', 'val_auc'])\n"
     ]
    }
   ],
   "source": [
    "# list all data in history\n",
    "print(history.history.keys())"
   ]
  },
  {
   "cell_type": "code",
   "execution_count": 25,
   "id": "4318add8",
   "metadata": {
    "execution": {
     "iopub.execute_input": "2021-11-30T13:33:06.872846Z",
     "iopub.status.busy": "2021-11-30T13:33:06.872224Z",
     "iopub.status.idle": "2021-11-30T13:33:42.374085Z",
     "shell.execute_reply": "2021-11-30T13:33:42.374574Z",
     "shell.execute_reply.started": "2021-11-30T12:48:41.897415Z"
    },
    "papermill": {
     "duration": 46.153725,
     "end_time": "2021-11-30T13:33:42.374734",
     "exception": false,
     "start_time": "2021-11-30T13:32:56.221009",
     "status": "completed"
    },
    "tags": []
   },
   "outputs": [
    {
     "data": {
      "image/png": "[encoded data removed]",
      "text/plain": [
       "<Figure size 432x288 with 1 Axes>"
      ]
     },
     "metadata": {
      "needs_background": "light"
     },
     "output_type": "display_data"
    },
    {
     "data": {
      "image/png": "[encoded data removed]",
      "text/plain": [
       "<Figure size 432x288 with 1 Axes>"
      ]
     },
     "metadata": {
      "needs_background": "light"
     },
     "output_type": "display_data"
    }
   ],
   "source": [
    "# summarize history for accuracy\n",
    "plt.plot(history.history[list(history.history.keys())[1]])\n",
    "plt.plot(history.history[list(history.history.keys())[3]])\n",
    "plt.title('Model AUC')\n",
    "plt.ylabel('AUC')\n",
    "plt.xlabel('Epoch')\n",
    "plt.legend(['train', 'test'], loc='lower right')\n",
    "plt.show()\n",
    "# summarize history for loss\n",
    "plt.plot(history.history['loss'])\n",
    "plt.plot(history.history['val_loss'])\n",
    "plt.title('model loss')\n",
    "plt.ylabel('loss')\n",
    "plt.xlabel('epoch')\n",
    "plt.legend(['train', 'test'], loc='upper right')\n",
    "plt.show()"
   ]
  },
  {
   "cell_type": "code",
   "execution_count": 26,
   "id": "f4590516",
   "metadata": {
    "execution": {
     "iopub.execute_input": "2021-11-30T13:34:04.182152Z",
     "iopub.status.busy": "2021-11-30T13:34:04.180978Z",
     "iopub.status.idle": "2021-11-30T13:34:09.421971Z",
     "shell.execute_reply": "2021-11-30T13:34:09.421426Z",
     "shell.execute_reply.started": "2021-11-30T12:48:46.589735Z"
    },
    "papermill": {
     "duration": 16.243023,
     "end_time": "2021-11-30T13:34:09.422105",
     "exception": false,
     "start_time": "2021-11-30T13:33:53.179082",
     "status": "completed"
    },
    "tags": []
   },
   "outputs": [],
   "source": [
    "# Predict on interim test df\n",
    "target_predict = pd.DataFrame(model.predict(X_test).round().astype(int),columns = ['pred_target'])"
   ]
  },
  {
   "cell_type": "code",
   "execution_count": 27,
   "id": "787bd658",
   "metadata": {
    "execution": {
     "iopub.execute_input": "2021-11-30T13:34:31.502954Z",
     "iopub.status.busy": "2021-11-30T13:34:31.502143Z",
     "iopub.status.idle": "2021-11-30T13:34:31.854768Z",
     "shell.execute_reply": "2021-11-30T13:34:31.854103Z",
     "shell.execute_reply.started": "2021-11-30T12:48:51.872404Z"
    },
    "papermill": {
     "duration": 11.200377,
     "end_time": "2021-11-30T13:34:31.854893",
     "exception": false,
     "start_time": "2021-11-30T13:34:20.654516",
     "status": "completed"
    },
    "tags": []
   },
   "outputs": [
    {
     "data": {
      "image/png": "[encoded data removed]",
      "text/plain": [
       "<Figure size 432x288 with 2 Axes>"
      ]
     },
     "metadata": {
      "needs_background": "light"
     },
     "output_type": "display_data"
    }
   ],
   "source": [
    "# Calculate and Show Confusion Matrix\n",
    "conf_metrix = confusion_matrix(y_test,target_predict.to_numpy(), normalize= 'true')\n",
    "disp = ConfusionMatrixDisplay(confusion_matrix = conf_metrix )\n",
    "disp.plot()\n",
    "plt.show()"
   ]
  },
  {
   "cell_type": "code",
   "execution_count": 28,
   "id": "064cca37",
   "metadata": {
    "execution": {
     "iopub.execute_input": "2021-11-30T13:34:53.777228Z",
     "iopub.status.busy": "2021-11-30T13:34:53.776487Z",
     "iopub.status.idle": "2021-11-30T13:34:53.792553Z",
     "shell.execute_reply": "2021-11-30T13:34:53.791923Z",
     "shell.execute_reply.started": "2021-11-30T12:48:56.611056Z"
    },
    "papermill": {
     "duration": 11.193983,
     "end_time": "2021-11-30T13:34:53.792705",
     "exception": false,
     "start_time": "2021-11-30T13:34:42.598722",
     "status": "completed"
    },
    "tags": []
   },
   "outputs": [
    {
     "name": "stdout",
     "output_type": "stream",
     "text": [
      "Accuracy: 72.28916666666667%\n"
     ]
    }
   ],
   "source": [
    "# Print Accuracy\n",
    "print('Accuracy: '+ str(accuracy_score(y_test,target_predict.to_numpy()) * 100) + '%')"
   ]
  },
  {
   "cell_type": "markdown",
   "id": "6d911a4c",
   "metadata": {
    "papermill": {
     "duration": 10.67507,
     "end_time": "2021-11-30T13:35:15.271531",
     "exception": false,
     "start_time": "2021-11-30T13:35:04.596461",
     "status": "completed"
    },
    "tags": []
   },
   "source": [
    "### Train Model on Whole data before predicting actual test data"
   ]
  },
  {
   "cell_type": "code",
   "execution_count": 29,
   "id": "29d48afb",
   "metadata": {
    "execution": {
     "iopub.execute_input": "2021-11-30T13:35:37.417566Z",
     "iopub.status.busy": "2021-11-30T13:35:37.415929Z",
     "iopub.status.idle": "2021-11-30T13:35:37.418128Z",
     "shell.execute_reply": "2021-11-30T13:35:37.418562Z"
    },
    "papermill": {
     "duration": 10.732681,
     "end_time": "2021-11-30T13:35:37.418706",
     "exception": false,
     "start_time": "2021-11-30T13:35:26.686025",
     "status": "completed"
    },
    "tags": []
   },
   "outputs": [],
   "source": [
    "#Train Model\n",
    "#model = training_models('MLP',train_df_X,train_df_Y.to_numpy(),X_test, y_test)"
   ]
  },
  {
   "cell_type": "markdown",
   "id": "5e222d46",
   "metadata": {
    "papermill": {
     "duration": 11.169943,
     "end_time": "2021-11-30T13:35:59.288869",
     "exception": false,
     "start_time": "2021-11-30T13:35:48.118926",
     "status": "completed"
    },
    "tags": []
   },
   "source": [
    "### Predict and Submit to leaderboard"
   ]
  },
  {
   "cell_type": "code",
   "execution_count": 30,
   "id": "eb1df585",
   "metadata": {
    "execution": {
     "iopub.execute_input": "2021-11-30T13:36:20.751542Z",
     "iopub.status.busy": "2021-11-30T13:36:20.750493Z",
     "iopub.status.idle": "2021-11-30T13:36:41.772602Z",
     "shell.execute_reply": "2021-11-30T13:36:41.771738Z",
     "shell.execute_reply.started": "2021-11-30T12:49:01.335564Z"
    },
    "papermill": {
     "duration": 31.672471,
     "end_time": "2021-11-30T13:36:41.772734",
     "exception": false,
     "start_time": "2021-11-30T13:36:10.100263",
     "status": "completed"
    },
    "tags": []
   },
   "outputs": [],
   "source": [
    "# Predict on actual test dataset\n",
    "probability = pd.DataFrame(model.predict(test_df_X),columns = ['target'])"
   ]
  },
  {
   "cell_type": "code",
   "execution_count": 31,
   "id": "45806cde",
   "metadata": {
    "execution": {
     "iopub.execute_input": "2021-11-30T13:37:03.511838Z",
     "iopub.status.busy": "2021-11-30T13:37:03.511229Z",
     "iopub.status.idle": "2021-11-30T13:37:04.892614Z",
     "shell.execute_reply": "2021-11-30T13:37:04.892067Z",
     "shell.execute_reply.started": "2021-11-26T21:35:08.803741Z"
    },
    "papermill": {
     "duration": 12.472235,
     "end_time": "2021-11-30T13:37:04.892740",
     "exception": false,
     "start_time": "2021-11-30T13:36:52.420505",
     "status": "completed"
    },
    "tags": []
   },
   "outputs": [],
   "source": [
    "# Submit Predictions\n",
    "submission = pd.concat([test_df_id,probability],axis = 1)\n",
    "submission.to_csv('submission.csv',index=False)"
   ]
  }
 ],
 "metadata": {
  "kernelspec": {
   "display_name": "Python 3",
   "language": "python",
   "name": "python3"
  },
  "language_info": {
   "codemirror_mode": {
    "name": "ipython",
    "version": 3
   },
   "file_extension": ".py",
   "mimetype": "text/x-python",
   "name": "python",
   "nbconvert_exporter": "python",
   "pygments_lexer": "ipython3",
   "version": "3.7.10"
  },
  "papermill": {
   "default_parameters": {},
   "duration": 2868.358103,
   "end_time": "2021-11-30T13:37:18.627567",
   "environment_variables": {},
   "exception": null,
   "input_path": "__notebook__.ipynb",
   "output_path": "__notebook__.ipynb",
   "parameters": {},
   "start_time": "2021-11-30T12:49:30.269464",
   "version": "2.3.3"
  }
 },
 "nbformat": 4,
 "nbformat_minor": 5
}
